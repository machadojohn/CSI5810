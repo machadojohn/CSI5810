{
 "cells": [
  {
   "cell_type": "code",
   "execution_count": 463,
   "metadata": {},
   "outputs": [],
   "source": [
    "# IMPORTS AND SETTINGS\n",
    "\n",
    "import matplotlib.pyplot as plt\n",
    "import numpy as np\n",
    "import os\n",
    "import pandas as pd\n",
    "from random import randint, seed\n",
    "import seaborn\n",
    "from sklearn.cluster import KMeans\n",
    "from sklearn.metrics import rand_score, mean_squared_error\n",
    "from sklearn.preprocessing import scale\n",
    "from time import time\n",
    "pd.set_option('display.expand_frame_repr', False)"
   ]
  },
  {
   "cell_type": "code",
   "execution_count": 464,
   "metadata": {},
   "outputs": [
    {
     "data": {
      "text/html": [
       "<div>\n",
       "<style scoped>\n",
       "    .dataframe tbody tr th:only-of-type {\n",
       "        vertical-align: middle;\n",
       "    }\n",
       "\n",
       "    .dataframe tbody tr th {\n",
       "        vertical-align: top;\n",
       "    }\n",
       "\n",
       "    .dataframe thead th {\n",
       "        text-align: right;\n",
       "    }\n",
       "</style>\n",
       "<table border=\"1\" class=\"dataframe\">\n",
       "  <thead>\n",
       "    <tr style=\"text-align: right;\">\n",
       "      <th></th>\n",
       "      <th>area</th>\n",
       "      <th>perimeter</th>\n",
       "      <th>compactness</th>\n",
       "      <th>kernal_length</th>\n",
       "      <th>kernal_width</th>\n",
       "      <th>assymetry_coefficient</th>\n",
       "      <th>groove_length</th>\n",
       "      <th>kernal_type</th>\n",
       "    </tr>\n",
       "  </thead>\n",
       "  <tbody>\n",
       "    <tr>\n",
       "      <th>0</th>\n",
       "      <td>15.26</td>\n",
       "      <td>14.84</td>\n",
       "      <td>0.8710</td>\n",
       "      <td>5.763</td>\n",
       "      <td>3.312</td>\n",
       "      <td>2.221</td>\n",
       "      <td>5.220</td>\n",
       "      <td>1</td>\n",
       "    </tr>\n",
       "    <tr>\n",
       "      <th>1</th>\n",
       "      <td>14.88</td>\n",
       "      <td>14.57</td>\n",
       "      <td>0.8811</td>\n",
       "      <td>5.554</td>\n",
       "      <td>3.333</td>\n",
       "      <td>1.018</td>\n",
       "      <td>4.956</td>\n",
       "      <td>1</td>\n",
       "    </tr>\n",
       "    <tr>\n",
       "      <th>2</th>\n",
       "      <td>14.29</td>\n",
       "      <td>14.09</td>\n",
       "      <td>0.9050</td>\n",
       "      <td>5.291</td>\n",
       "      <td>3.337</td>\n",
       "      <td>2.699</td>\n",
       "      <td>4.825</td>\n",
       "      <td>1</td>\n",
       "    </tr>\n",
       "    <tr>\n",
       "      <th>3</th>\n",
       "      <td>13.84</td>\n",
       "      <td>13.94</td>\n",
       "      <td>0.8955</td>\n",
       "      <td>5.324</td>\n",
       "      <td>3.379</td>\n",
       "      <td>2.259</td>\n",
       "      <td>4.805</td>\n",
       "      <td>1</td>\n",
       "    </tr>\n",
       "    <tr>\n",
       "      <th>4</th>\n",
       "      <td>16.14</td>\n",
       "      <td>14.99</td>\n",
       "      <td>0.9034</td>\n",
       "      <td>5.658</td>\n",
       "      <td>3.562</td>\n",
       "      <td>1.355</td>\n",
       "      <td>5.175</td>\n",
       "      <td>1</td>\n",
       "    </tr>\n",
       "  </tbody>\n",
       "</table>\n",
       "</div>"
      ],
      "text/plain": [
       "    area  perimeter  compactness  kernal_length  kernal_width  assymetry_coefficient  groove_length  kernal_type\n",
       "0  15.26      14.84       0.8710          5.763         3.312                  2.221          5.220            1\n",
       "1  14.88      14.57       0.8811          5.554         3.333                  1.018          4.956            1\n",
       "2  14.29      14.09       0.9050          5.291         3.337                  2.699          4.825            1\n",
       "3  13.84      13.94       0.8955          5.324         3.379                  2.259          4.805            1\n",
       "4  16.14      14.99       0.9034          5.658         3.562                  1.355          5.175            1"
      ]
     },
     "execution_count": 464,
     "metadata": {},
     "output_type": "execute_result"
    }
   ],
   "source": [
    "# QUESTION 1: SET UP DATAFRAME\n",
    "df = pd.read_csv(\n",
    "    '../assignment/question_1_data/cleaned_data.csv', \n",
    "    sep=',', \n",
    "    header=None\n",
    ")\n",
    "df.columns = [\n",
    "    'area',\n",
    "    'perimeter',\n",
    "    'compactness',\n",
    "    'kernal_length',\n",
    "    'kernal_width',\n",
    "    'assymetry_coefficient',\n",
    "    'groove_length',\n",
    "    'kernal_type'\n",
    "]\n",
    "df.head()"
   ]
  },
  {
   "cell_type": "code",
   "execution_count": 465,
   "metadata": {},
   "outputs": [],
   "source": [
    " # QUESTION 1: INITIAL VISUALIZATION\n",
    "\n",
    "# seaborn.pairplot(\n",
    "#     df, \n",
    "#     corner=True,\n",
    "#     hue='kernal_type',\n",
    "#     palette=['red', 'green', 'blue']\n",
    "# )"
   ]
  },
  {
   "cell_type": "code",
   "execution_count": 466,
   "metadata": {},
   "outputs": [],
   "source": [
    "# QUESTION 1: FUNCTION \n",
    "\n",
    "def q1(df):\n",
    "    _k_means_df = df[df.columns[:-1]]\n",
    "    _actual_df = pd.DataFrame(df[df.columns[-1]])\n",
    "    _actual_df.columns = ['actual']\n",
    "    _clusters = [2, 3, 4, 5]\n",
    "    _ri_values = []\n",
    "    _sse_values = []\n",
    "    for _c in _clusters:\n",
    "        _k_means = KMeans(\n",
    "            n_clusters = _c,\n",
    "            random_state = 2\n",
    "        )\n",
    "        _model = _k_means.fit(_k_means_df)\n",
    "        _sse_values.append(_k_means.inertia_)\n",
    "        _predicted_df = pd.DataFrame(_model.predict(_k_means_df))\n",
    "        _predicted_df.columns = ['predicted']\n",
    "        _ri = rand_score(_actual_df['actual'], _predicted_df['predicted'])\n",
    "        _ri_values.append(_ri)\n",
    "\n",
    "    _df_data = {\n",
    "        'k_values': [2, 3, 4, 5],\n",
    "        'SEE': _sse_values,\n",
    "        'RI': _ri_values\n",
    "    }\n",
    "    \n",
    "    return pd.DataFrame(_df_data) \n"
   ]
  },
  {
   "cell_type": "code",
   "execution_count": 467,
   "metadata": {},
   "outputs": [
    {
     "data": {
      "text/html": [
       "<div>\n",
       "<style scoped>\n",
       "    .dataframe tbody tr th:only-of-type {\n",
       "        vertical-align: middle;\n",
       "    }\n",
       "\n",
       "    .dataframe tbody tr th {\n",
       "        vertical-align: top;\n",
       "    }\n",
       "\n",
       "    .dataframe thead th {\n",
       "        text-align: right;\n",
       "    }\n",
       "</style>\n",
       "<table border=\"1\" class=\"dataframe\">\n",
       "  <thead>\n",
       "    <tr style=\"text-align: right;\">\n",
       "      <th></th>\n",
       "      <th>k_values</th>\n",
       "      <th>SEE</th>\n",
       "      <th>RI</th>\n",
       "    </tr>\n",
       "  </thead>\n",
       "  <tbody>\n",
       "    <tr>\n",
       "      <th>0</th>\n",
       "      <td>2</td>\n",
       "      <td>1011.612265</td>\n",
       "      <td>0.732741</td>\n",
       "    </tr>\n",
       "    <tr>\n",
       "      <th>1</th>\n",
       "      <td>3</td>\n",
       "      <td>587.318612</td>\n",
       "      <td>0.874368</td>\n",
       "    </tr>\n",
       "    <tr>\n",
       "      <th>2</th>\n",
       "      <td>4</td>\n",
       "      <td>471.027146</td>\n",
       "      <td>0.835999</td>\n",
       "    </tr>\n",
       "    <tr>\n",
       "      <th>3</th>\n",
       "      <td>5</td>\n",
       "      <td>386.157590</td>\n",
       "      <td>0.823240</td>\n",
       "    </tr>\n",
       "  </tbody>\n",
       "</table>\n",
       "</div>"
      ],
      "text/plain": [
       "   k_values          SEE        RI\n",
       "0         2  1011.612265  0.732741\n",
       "1         3   587.318612  0.874368\n",
       "2         4   471.027146  0.835999\n",
       "3         5   386.157590  0.823240"
      ]
     },
     "execution_count": 467,
     "metadata": {},
     "output_type": "execute_result"
    }
   ],
   "source": [
    "# QUESTION 1: NOT NORMALIZED\n",
    "\n",
    "_not_normalized = q1(df)\n",
    "_not_normalized"
   ]
  },
  {
   "cell_type": "code",
   "execution_count": 468,
   "metadata": {},
   "outputs": [
    {
     "data": {
      "text/html": [
       "<div>\n",
       "<style scoped>\n",
       "    .dataframe tbody tr th:only-of-type {\n",
       "        vertical-align: middle;\n",
       "    }\n",
       "\n",
       "    .dataframe tbody tr th {\n",
       "        vertical-align: top;\n",
       "    }\n",
       "\n",
       "    .dataframe thead th {\n",
       "        text-align: right;\n",
       "    }\n",
       "</style>\n",
       "<table border=\"1\" class=\"dataframe\">\n",
       "  <thead>\n",
       "    <tr style=\"text-align: right;\">\n",
       "      <th></th>\n",
       "      <th>k_values</th>\n",
       "      <th>SEE</th>\n",
       "      <th>RI</th>\n",
       "    </tr>\n",
       "  </thead>\n",
       "  <tbody>\n",
       "    <tr>\n",
       "      <th>0</th>\n",
       "      <td>2</td>\n",
       "      <td>659.171754</td>\n",
       "      <td>0.734381</td>\n",
       "    </tr>\n",
       "    <tr>\n",
       "      <th>1</th>\n",
       "      <td>3</td>\n",
       "      <td>430.658973</td>\n",
       "      <td>0.899704</td>\n",
       "    </tr>\n",
       "    <tr>\n",
       "      <th>2</th>\n",
       "      <td>4</td>\n",
       "      <td>371.301721</td>\n",
       "      <td>0.858054</td>\n",
       "    </tr>\n",
       "    <tr>\n",
       "      <th>3</th>\n",
       "      <td>5</td>\n",
       "      <td>326.311447</td>\n",
       "      <td>0.808339</td>\n",
       "    </tr>\n",
       "  </tbody>\n",
       "</table>\n",
       "</div>"
      ],
      "text/plain": [
       "   k_values         SEE        RI\n",
       "0         2  659.171754  0.734381\n",
       "1         3  430.658973  0.899704\n",
       "2         4  371.301721  0.858054\n",
       "3         5  326.311447  0.808339"
      ]
     },
     "execution_count": 468,
     "metadata": {},
     "output_type": "execute_result"
    }
   ],
   "source": [
    "# QUESTION 1: NORMALIZED\n",
    "\n",
    "_normalized = pd.DataFrame(scale(df[df.columns[:-1]]))\n",
    "_normalized.columns = df.columns[:-1]\n",
    "_normalized['kernal_type'] = df['kernal_type']\n",
    "_normalized = q1(_normalized)\n",
    "_normalized"
   ]
  },
  {
   "cell_type": "code",
   "execution_count": 469,
   "metadata": {},
   "outputs": [],
   "source": [
    "# QUESTION 1: PLOT FUNCTION\n",
    "\n",
    "def plotQ1(df, label):\n",
    "    fig, ax1 = plt.subplots()\n",
    "    ax2 = ax1.twinx()\n",
    "    ax1.plot(\n",
    "        df['k_values'], \n",
    "        df['SEE'], \n",
    "        'r-',\n",
    "        marker='o'\n",
    "    )\n",
    "    ax2.plot(\n",
    "        df['k_values'],\n",
    "        df['RI'],\n",
    "        'g-',\n",
    "        marker='o'\n",
    "    )\n",
    "    ax1.set_xticks(df['k_values'])\n",
    "    ax1.set_xlabel('k_values', fontsize=14)\n",
    "    ax1.set_ylabel('SEE', color='r', fontsize=14)\n",
    "    ax2.set_ylabel('RI', color='g', fontsize=14)\n",
    "    plt.title('{}'.format(label), fontsize=14)\n",
    "    plt.show()"
   ]
  },
  {
   "cell_type": "code",
   "execution_count": 470,
   "metadata": {},
   "outputs": [
    {
     "data": {
      "image/png": "[encoded data removed]",
      "text/plain": [
       "<Figure size 432x288 with 2 Axes>"
      ]
     },
     "metadata": {
      "needs_background": "light"
     },
     "output_type": "display_data"
    }
   ],
   "source": [
    "# QUESTION 1: NOT NORMALIZED PLOT\n",
    "\n",
    "plotQ1(_not_normalized, 'NOT NORMALIZED')"
   ]
  },
  {
   "cell_type": "code",
   "execution_count": 471,
   "metadata": {},
   "outputs": [
    {
     "data": {
      "image/png": "[encoded data removed]",
      "text/plain": [
       "<Figure size 432x288 with 2 Axes>"
      ]
     },
     "metadata": {
      "needs_background": "light"
     },
     "output_type": "display_data"
    }
   ],
   "source": [
    "# QUESTION 1: PLOT NORMALIZED\n",
    "\n",
    "plotQ1(_normalized, 'NORMALIZED')"
   ]
  },
  {
   "cell_type": "code",
   "execution_count": 472,
   "metadata": {},
   "outputs": [
    {
     "data": {
      "text/html": [
       "<div>\n",
       "<style scoped>\n",
       "    .dataframe tbody tr th:only-of-type {\n",
       "        vertical-align: middle;\n",
       "    }\n",
       "\n",
       "    .dataframe tbody tr th {\n",
       "        vertical-align: top;\n",
       "    }\n",
       "\n",
       "    .dataframe thead th {\n",
       "        text-align: right;\n",
       "    }\n",
       "</style>\n",
       "<table border=\"1\" class=\"dataframe\">\n",
       "  <thead>\n",
       "    <tr style=\"text-align: right;\">\n",
       "      <th></th>\n",
       "      <th>all_crime</th>\n",
       "      <th>violent_crime</th>\n",
       "      <th>police_funding</th>\n",
       "      <th>over_25_hs</th>\n",
       "      <th>under_19_no_hs</th>\n",
       "      <th>college_students</th>\n",
       "      <th>over_25_college</th>\n",
       "    </tr>\n",
       "  </thead>\n",
       "  <tbody>\n",
       "    <tr>\n",
       "      <th>0</th>\n",
       "      <td>478</td>\n",
       "      <td>184</td>\n",
       "      <td>40</td>\n",
       "      <td>74</td>\n",
       "      <td>11</td>\n",
       "      <td>31</td>\n",
       "      <td>20</td>\n",
       "    </tr>\n",
       "    <tr>\n",
       "      <th>1</th>\n",
       "      <td>494</td>\n",
       "      <td>213</td>\n",
       "      <td>32</td>\n",
       "      <td>72</td>\n",
       "      <td>11</td>\n",
       "      <td>43</td>\n",
       "      <td>18</td>\n",
       "    </tr>\n",
       "    <tr>\n",
       "      <th>2</th>\n",
       "      <td>643</td>\n",
       "      <td>347</td>\n",
       "      <td>57</td>\n",
       "      <td>70</td>\n",
       "      <td>18</td>\n",
       "      <td>16</td>\n",
       "      <td>16</td>\n",
       "    </tr>\n",
       "    <tr>\n",
       "      <th>3</th>\n",
       "      <td>341</td>\n",
       "      <td>565</td>\n",
       "      <td>31</td>\n",
       "      <td>71</td>\n",
       "      <td>11</td>\n",
       "      <td>25</td>\n",
       "      <td>19</td>\n",
       "    </tr>\n",
       "    <tr>\n",
       "      <th>4</th>\n",
       "      <td>773</td>\n",
       "      <td>327</td>\n",
       "      <td>67</td>\n",
       "      <td>72</td>\n",
       "      <td>9</td>\n",
       "      <td>29</td>\n",
       "      <td>24</td>\n",
       "    </tr>\n",
       "  </tbody>\n",
       "</table>\n",
       "</div>"
      ],
      "text/plain": [
       "   all_crime  violent_crime  police_funding  over_25_hs  under_19_no_hs  college_students  over_25_college\n",
       "0        478            184              40          74              11                31               20\n",
       "1        494            213              32          72              11                43               18\n",
       "2        643            347              57          70              18                16               16\n",
       "3        341            565              31          71              11                25               19\n",
       "4        773            327              67          72               9                29               24"
      ]
     },
     "execution_count": 472,
     "metadata": {},
     "output_type": "execute_result"
    }
   ],
   "source": [
    "# QUESTION 2: SET UP DATAFRAMED\n",
    "\n",
    "df = pd.read_csv(\n",
    "    '../assignment/question_2_data/cleaned_data.csv', \n",
    "    sep=','\n",
    ")\n",
    "df.head()"
   ]
  },
  {
   "cell_type": "code",
   "execution_count": 473,
   "metadata": {},
   "outputs": [],
   "source": [
    "scaled_df = pd.DataFrame(scale(df))\n",
    "scaled_df.columns = df.columns"
   ]
  },
  {
   "cell_type": "code",
   "execution_count": 474,
   "metadata": {},
   "outputs": [],
   "source": [
    "# QUESTION 2: LINEAR PREDICTION FUNCTION\n",
    "# code below is a modified version of code from Regression Modeling Slide Deck, Slide 19\n",
    "\n",
    "def q2(x, y, learn_rate, iterations):\n",
    "    _x0 = np.ones((len(x), 1))\n",
    "    X = np.hstack((_x0, x))\n",
    "    w = np.random.randn(X.shape[1])\n",
    "    result = []\n",
    "    _loss = 0\n",
    "    for _t in range(iterations):\n",
    "        _y_pred = X.dot(w)\n",
    "        _loss = np.square(_y_pred - y).sum()\n",
    "        result.append(_loss)\n",
    "        _grad_y_pred = 2.0 * (_y_pred - y)\n",
    "        _grad_w = X.T.dot(_grad_y_pred)\n",
    "        w -= learn_rate * _grad_w\n",
    "    return w, result"
   ]
  },
  {
   "cell_type": "code",
   "execution_count": 475,
   "metadata": {},
   "outputs": [],
   "source": [
    "# QUESTION 2: PREDICT FUNCTION\n",
    "\n",
    "def q2predict(x, w):\n",
    "    _x0 = np.ones((len(x), 1))\n",
    "    X = np.hstack((_x0, x))\n",
    "    return X.dot(w)\n",
    "    "
   ]
  },
  {
   "cell_type": "code",
   "execution_count": 476,
   "metadata": {},
   "outputs": [
    {
     "name": "stdout",
     "output_type": "stream",
     "text": [
      "Testing learining rate 0.001 with 1000 iterations.\n",
      "Testing learining rate 0.0001 with 1000 iterations.\n",
      "Testing learining rate 1e-05 with 1000 iterations.\n"
     ]
    }
   ],
   "source": [
    "# QUESTION 2: TEST LOOP\n",
    "\n",
    "_features = ['police_funding', 'over_25_hs', 'under_19_no_hs', 'college_students', 'over_25_college']\n",
    "_x = scaled_df[_features]\n",
    "_y = scaled_df['violent_crime']\n",
    "_learning_rates = [1e-3, 1E-4, 1e-5]\n",
    "_iteration_list = [1_000]\n",
    "_test_rates = []\n",
    "_test_iterations = []\n",
    "_ellapsed_times = []\n",
    "_w_list = []\n",
    "_error_list = []\n",
    "_mse_list=[]\n",
    "\n",
    "for _rate in _learning_rates:\n",
    "    for _iterations in _iteration_list:\n",
    "        print('Testing learining rate {} with {} iterations.'.format(_rate, _iterations))\n",
    "        if _rate == 1e-5: _iterations = 10_000\n",
    "        start_time = time()\n",
    "        _w, _error = q2(_x, _y, _rate, _iterations)\n",
    "        stop_time = time()\n",
    "        _test_rates.append(_rate)\n",
    "        _test_iterations.append(_iterations)\n",
    "        _ellapsed_times.append(stop_time - start_time)\n",
    "        _w_list.append(_w)\n",
    "        _error_list.append(_error)\n",
    "        _mse_list.append(mean_squared_error(_y, q2predict(_x, _w)))\n",
    "\n",
    "_result = {\n",
    "    'learning_rates': _test_rates,\n",
    "    'iteration_list': _test_iterations,\n",
    "    'ellapsed_time': _ellapsed_times,\n",
    "    'mse': _mse_list,\n",
    "    'w': _w_list,\n",
    "    'error': _error_list\n",
    "}\n",
    "        \n",
    "result = pd.DataFrame(_result)\n",
    "\n"
   ]
  },
  {
   "cell_type": "code",
   "execution_count": 477,
   "metadata": {},
   "outputs": [],
   "source": [
    "# QUESTION 2: SAVE RESULTS\n",
    "\n",
    "result.to_csv('result.csv')"
   ]
  },
  {
   "cell_type": "code",
   "execution_count": 478,
   "metadata": {},
   "outputs": [
    {
     "data": {
      "image/png": "[encoded data removed]",
      "text/plain": [
       "<Figure size 720x360 with 1 Axes>"
      ]
     },
     "metadata": {
      "needs_background": "light"
     },
     "output_type": "display_data"
    }
   ],
   "source": [
    "# QUESTION 2: MSE PLOT\n",
    "\n",
    "_x = result['learning_rates']\n",
    "_y = result['mse']\n",
    "plt.figure(figsize=(10,5))\n",
    "plt.plot(\n",
    "    _x,\n",
    "    _y,\n",
    "    'b-',\n",
    "    marker='o'\n",
    ")\n",
    "# for _lr, _et, _it in zip(_x,_y, result['iteration_list']):\n",
    "#     label = '{:,} iterations'.format(_it)\n",
    "#     plt.annotate(\n",
    "#         text=label,\n",
    "#         xy=(_lr,_et),\n",
    "#         xytext=(5,2),\n",
    "#         textcoords=('offset pixels')\n",
    "#     )\n",
    "plt.xscale('log')\n",
    "plt.ylabel('MSE', fontsize=16)\n",
    "plt.xlabel('LEARNING RATE', fontsize=16)\n",
    "plt.xticks(_x)\n",
    "plt.title('MSE for Each Learning Rate', fontsize=16)\n",
    "plt.show()"
   ]
  },
  {
   "cell_type": "code",
   "execution_count": 479,
   "metadata": {},
   "outputs": [],
   "source": [
    "# QUESTION 2: ERROR VS ITERATION PLOT FUNCTION\n",
    "\n",
    "def q2ErrorPlot(test):\n",
    "    _x = np.arange(len(result.iloc[test,5]))\n",
    "    _y = result.iloc[test,5]\n",
    "    plt.figure(figsize=(10,5))\n",
    "    plt.plot(\n",
    "        _x,\n",
    "        _y,\n",
    "        'b-',\n",
    "    )\n",
    "    plt.xscale('log')\n",
    "    plt.ylabel('ERROR', fontsize=16)\n",
    "    plt.xlabel('ITERATION', fontsize=16)\n",
    "    plt.title('Error Evolution in {:,} Iterations with Learning Rate of {}'.format(result.iloc[test,1], result.iloc[test,0]), fontsize=16)\n",
    "    plt.show()"
   ]
  },
  {
   "cell_type": "code",
   "execution_count": 480,
   "metadata": {},
   "outputs": [
    {
     "data": {
      "image/png": "[encoded data removed]",
      "text/plain": [
       "<Figure size 720x360 with 1 Axes>"
      ]
     },
     "metadata": {
      "needs_background": "light"
     },
     "output_type": "display_data"
    }
   ],
   "source": [
    "# QUESTION 2: PLOT LEARNING RATE 0.1, ITERATIONS 1,000\n",
    "\n",
    "q2ErrorPlot(0)"
   ]
  },
  {
   "cell_type": "code",
   "execution_count": 481,
   "metadata": {},
   "outputs": [
    {
     "data": {
      "image/png": "[encoded data removed]",
      "text/plain": [
       "<Figure size 720x360 with 1 Axes>"
      ]
     },
     "metadata": {
      "needs_background": "light"
     },
     "output_type": "display_data"
    }
   ],
   "source": [
    "# QUESTION 2: PLOT LEARNING RATE 0.01, ITERATIONS 1,000\n",
    "\n",
    "q2ErrorPlot(1)"
   ]
  },
  {
   "cell_type": "code",
   "execution_count": 482,
   "metadata": {},
   "outputs": [
    {
     "data": {
      "image/png": "[encoded data removed]",
      "text/plain": [
       "<Figure size 720x360 with 1 Axes>"
      ]
     },
     "metadata": {
      "needs_background": "light"
     },
     "output_type": "display_data"
    }
   ],
   "source": [
    "# QUESTION 2: PLOT LEARNING RATE 0.001, ITERATIONS 1,000\n",
    "\n",
    "q2ErrorPlot(2)"
   ]
  },
  {
   "cell_type": "code",
   "execution_count": 483,
   "metadata": {},
   "outputs": [
    {
     "data": {
      "image/png": "[encoded data removed]",
      "text/plain": [
       "<Figure size 720x360 with 1 Axes>"
      ]
     },
     "metadata": {
      "needs_background": "light"
     },
     "output_type": "display_data"
    }
   ],
   "source": [
    "# QUESTION 2: TIME TAKEN FOR EACH TEST\n",
    "\n",
    "_x = result['learning_rates']\n",
    "_y = result['ellapsed_time']\n",
    "plt.figure(figsize=(10,5))\n",
    "plt.plot(\n",
    "    _x,\n",
    "    _y,\n",
    "    'b-',\n",
    "    marker='o'\n",
    ")\n",
    "for _lr, _et, _it in zip(_x,_y, result['iteration_list']):\n",
    "    label = '{:,} iterations'.format(_it)\n",
    "    plt.annotate(\n",
    "        text=label,\n",
    "        xy=(_lr,_et),\n",
    "        xytext=(5,2),\n",
    "        textcoords=('offset pixels')\n",
    "    )\n",
    "plt.xscale('log')\n",
    "plt.ylabel('TIME TAKEN ', fontsize=16)\n",
    "plt.xlabel('LEARNING RATE', fontsize=16)\n",
    "plt.xticks(_x)\n",
    "plt.title('Time Taken for Learning Rate', fontsize=16)\n",
    "plt.show()"
   ]
  },
  {
   "cell_type": "code",
   "execution_count": 562,
   "metadata": {},
   "outputs": [],
   "source": [
    "# QUESTIN 3: SETUP COUNT DATAFRAME\n",
    "# put all questio 3 cells into a loop if there is time\n",
    "\n",
    "A = 'A'\n",
    "B = 'B'\n",
    "C = 'C'\n",
    "D = 'D'\n",
    "E = 'E'\n",
    "_items_bought_list = [\n",
    "    {A, B, D, E},\n",
    "    {B, C, D},\n",
    "    {A, B, D, E},\n",
    "    {A, C, D, E},\n",
    "    {B, C, D, E},\n",
    "    {B, D, E},\n",
    "    {C, D},\n",
    "    {A, B, C},\n",
    "    {A, D, E},\n",
    "    {B, D},\n",
    "]\n",
    "\n",
    "_tid_df_list = []\n",
    "_items_df_list = []\n",
    "for _i,_row in enumerate(_items_bought_list):\n",
    "    for _item in _row:\n",
    "        _tid_df_list.append(_i+1)\n",
    "        _items_df_list.append(_item)\n",
    "_df_data = {\n",
    "    'TID': _tid_df_list,\n",
    "    'items': _items_df_list\n",
    "}\n",
    "_count_df = pd.DataFrame(_df_data)"
   ]
  },
  {
   "cell_type": "code",
   "execution_count": 563,
   "metadata": {},
   "outputs": [
    {
     "data": {
      "text/html": [
       "<div>\n",
       "<style scoped>\n",
       "    .dataframe tbody tr th:only-of-type {\n",
       "        vertical-align: middle;\n",
       "    }\n",
       "\n",
       "    .dataframe tbody tr th {\n",
       "        vertical-align: top;\n",
       "    }\n",
       "\n",
       "    .dataframe thead th {\n",
       "        text-align: right;\n",
       "    }\n",
       "</style>\n",
       "<table border=\"1\" class=\"dataframe\">\n",
       "  <thead>\n",
       "    <tr style=\"text-align: right;\">\n",
       "      <th></th>\n",
       "      <th>TID</th>\n",
       "      <th>items</th>\n",
       "    </tr>\n",
       "  </thead>\n",
       "  <tbody>\n",
       "    <tr>\n",
       "      <th>0</th>\n",
       "      <td>1</td>\n",
       "      <td>{A, B, D, E}</td>\n",
       "    </tr>\n",
       "    <tr>\n",
       "      <th>1</th>\n",
       "      <td>2</td>\n",
       "      <td>{C, B, D}</td>\n",
       "    </tr>\n",
       "    <tr>\n",
       "      <th>2</th>\n",
       "      <td>3</td>\n",
       "      <td>{A, B, D, E}</td>\n",
       "    </tr>\n",
       "    <tr>\n",
       "      <th>3</th>\n",
       "      <td>4</td>\n",
       "      <td>{A, C, D, E}</td>\n",
       "    </tr>\n",
       "    <tr>\n",
       "      <th>4</th>\n",
       "      <td>5</td>\n",
       "      <td>{C, B, D, E}</td>\n",
       "    </tr>\n",
       "    <tr>\n",
       "      <th>5</th>\n",
       "      <td>6</td>\n",
       "      <td>{B, D, E}</td>\n",
       "    </tr>\n",
       "    <tr>\n",
       "      <th>6</th>\n",
       "      <td>7</td>\n",
       "      <td>{C, D}</td>\n",
       "    </tr>\n",
       "    <tr>\n",
       "      <th>7</th>\n",
       "      <td>8</td>\n",
       "      <td>{A, C, B}</td>\n",
       "    </tr>\n",
       "    <tr>\n",
       "      <th>8</th>\n",
       "      <td>9</td>\n",
       "      <td>{A, D, E}</td>\n",
       "    </tr>\n",
       "    <tr>\n",
       "      <th>9</th>\n",
       "      <td>10</td>\n",
       "      <td>{B, D}</td>\n",
       "    </tr>\n",
       "  </tbody>\n",
       "</table>\n",
       "</div>"
      ],
      "text/plain": [
       "   TID         items\n",
       "0    1  {A, B, D, E}\n",
       "1    2     {C, B, D}\n",
       "2    3  {A, B, D, E}\n",
       "3    4  {A, C, D, E}\n",
       "4    5  {C, B, D, E}\n",
       "5    6     {B, D, E}\n",
       "6    7        {C, D}\n",
       "7    8     {A, C, B}\n",
       "8    9     {A, D, E}\n",
       "9   10        {B, D}"
      ]
     },
     "execution_count": 563,
     "metadata": {},
     "output_type": "execute_result"
    }
   ],
   "source": [
    "# QUESTION 3: SET UP SET DATAFRAME\n",
    "\n",
    "A = 'A'\n",
    "B = 'B'\n",
    "C = 'C'\n",
    "D = 'D'\n",
    "E = 'E'\n",
    "_items_bought_list = [\n",
    "    {A, B, D, E},\n",
    "    {B, C, D},\n",
    "    {A, B, D, E},\n",
    "    {A, C, D, E},\n",
    "    {B, C, D, E},\n",
    "    {B, D, E},\n",
    "    {C, D},\n",
    "    {A, B, C},\n",
    "    {A, D, E},\n",
    "    {B, D},\n",
    "]\n",
    "_tid_list = np.arange(len(_items_bought_list)) + 1\n",
    "_df_data = {\n",
    "    'TID': _tid_list,\n",
    "    'items': _items_bought_list\n",
    "}\n",
    "_set_df = pd.DataFrame(_df_data)\n",
    "_set_df"
   ]
  },
  {
   "cell_type": "code",
   "execution_count": 564,
   "metadata": {},
   "outputs": [
    {
     "data": {
      "text/plain": [
       "D    9\n",
       "B    7\n",
       "E    6\n",
       "A    5\n",
       "C    5\n",
       "Name: items, dtype: int64"
      ]
     },
     "execution_count": 564,
     "metadata": {},
     "output_type": "execute_result"
    }
   ],
   "source": [
    "# QUESTION 3: INITIAL COUNTS\n",
    "_min_support = 2\n",
    "_c = _count_df['items'].value_counts()\n",
    "_c\n",
    "_l = _c[_c >= _min_support]\n",
    "_l"
   ]
  },
  {
   "cell_type": "code",
   "execution_count": 565,
   "metadata": {},
   "outputs": [],
   "source": [
    "# QUESTION 3: INITIAL COMBINATIONS\n",
    "_comb = []\n",
    "_keys = _l.keys()\n",
    "_len = len(_keys)\n",
    "for _i in range(_len):\n",
    "    for _j in range(_i+1, _len):\n",
    "        _comb.append({_keys[_i], _keys[_j]})"
   ]
  },
  {
   "cell_type": "code",
   "execution_count": 566,
   "metadata": {},
   "outputs": [],
   "source": [
    "# QUESTION 3: COUNT OCCURANCES\n",
    "\n",
    "_count_list = []\n",
    "for _comb_row in _comb:\n",
    "    _count = 0\n",
    "    for _df_row in _set_df.iterrows():\n",
    "        if _comb_row.issubset(_df_row[1][1]):\n",
    "            _count += 1\n",
    "    _count_list.append(_count)"
   ]
  },
  {
   "cell_type": "code",
   "execution_count": 567,
   "metadata": {},
   "outputs": [],
   "source": [
    "# QUESTION 3: SAVE TO DF FOR LOW COUNT REMOVAL\n",
    "\n",
    "_df_data = {'combinations': _comb, 'occurances': _count_list}\n",
    "_df = pd.DataFrame(_df_data)"
   ]
  },
  {
   "cell_type": "code",
   "execution_count": 568,
   "metadata": {},
   "outputs": [
    {
     "data": {
      "text/html": [
       "<div>\n",
       "<style scoped>\n",
       "    .dataframe tbody tr th:only-of-type {\n",
       "        vertical-align: middle;\n",
       "    }\n",
       "\n",
       "    .dataframe tbody tr th {\n",
       "        vertical-align: top;\n",
       "    }\n",
       "\n",
       "    .dataframe thead th {\n",
       "        text-align: right;\n",
       "    }\n",
       "</style>\n",
       "<table border=\"1\" class=\"dataframe\">\n",
       "  <thead>\n",
       "    <tr style=\"text-align: right;\">\n",
       "      <th></th>\n",
       "      <th>combinations</th>\n",
       "      <th>occurances</th>\n",
       "    </tr>\n",
       "  </thead>\n",
       "  <tbody>\n",
       "    <tr>\n",
       "      <th>0</th>\n",
       "      <td>{B, D}</td>\n",
       "      <td>6</td>\n",
       "    </tr>\n",
       "    <tr>\n",
       "      <th>1</th>\n",
       "      <td>{D, E}</td>\n",
       "      <td>6</td>\n",
       "    </tr>\n",
       "    <tr>\n",
       "      <th>2</th>\n",
       "      <td>{A, D}</td>\n",
       "      <td>4</td>\n",
       "    </tr>\n",
       "    <tr>\n",
       "      <th>3</th>\n",
       "      <td>{C, D}</td>\n",
       "      <td>4</td>\n",
       "    </tr>\n",
       "    <tr>\n",
       "      <th>4</th>\n",
       "      <td>{B, E}</td>\n",
       "      <td>4</td>\n",
       "    </tr>\n",
       "    <tr>\n",
       "      <th>5</th>\n",
       "      <td>{A, B}</td>\n",
       "      <td>3</td>\n",
       "    </tr>\n",
       "    <tr>\n",
       "      <th>6</th>\n",
       "      <td>{C, B}</td>\n",
       "      <td>3</td>\n",
       "    </tr>\n",
       "    <tr>\n",
       "      <th>7</th>\n",
       "      <td>{A, E}</td>\n",
       "      <td>4</td>\n",
       "    </tr>\n",
       "  </tbody>\n",
       "</table>\n",
       "</div>"
      ],
      "text/plain": [
       "  combinations  occurances\n",
       "0       {B, D}           6\n",
       "1       {D, E}           6\n",
       "2       {A, D}           4\n",
       "3       {C, D}           4\n",
       "4       {B, E}           4\n",
       "5       {A, B}           3\n",
       "6       {C, B}           3\n",
       "7       {A, E}           4"
      ]
     },
     "execution_count": 568,
     "metadata": {},
     "output_type": "execute_result"
    }
   ],
   "source": [
    "# QUESTION 3: LOW COUNT REMOVAL\n",
    "\n",
    "_df = _df[_df['occurances'] >= 3]\n",
    "_df"
   ]
  },
  {
   "cell_type": "code",
   "execution_count": 569,
   "metadata": {},
   "outputs": [
    {
     "data": {
      "text/plain": [
       "[{'B', 'D', 'E'},\n",
       " {'A', 'B', 'D'},\n",
       " {'B', 'C', 'D'},\n",
       " {'A', 'B', 'D', 'E'},\n",
       " {'A', 'D', 'E'},\n",
       " {'C', 'D', 'E'},\n",
       " {'B', 'C', 'D', 'E'},\n",
       " {'A', 'C', 'D'},\n",
       " {'A', 'B', 'C', 'D'},\n",
       " {'A', 'C', 'D', 'E'},\n",
       " {'A', 'B', 'E'},\n",
       " {'B', 'C', 'E'},\n",
       " {'A', 'B', 'C'},\n",
       " {'A', 'B', 'C', 'E'}]"
      ]
     },
     "execution_count": 569,
     "metadata": {},
     "output_type": "execute_result"
    }
   ],
   "source": [
    "# QUESTION 3: NEW COMBINATIONS\n",
    "\n",
    "_n = []\n",
    "_combs = _df['combinations']\n",
    "_len = len(_combs)\n",
    "for _i in range(_len):\n",
    "    for _j in range(_i+1,_len):\n",
    "        _n.append(_combs[_i].union(_combs[_j]))\n",
    "_comb = []\n",
    "[_comb.append(x) for x in _n if x not in _comb]\n",
    "_comb\n"
   ]
  },
  {
   "cell_type": "code",
   "execution_count": 570,
   "metadata": {},
   "outputs": [],
   "source": [
    "# QUESTION 3: COUNT OCCURANCES\n",
    "\n",
    "_count_list = []\n",
    "for _comb_row in _comb:\n",
    "    _count = 0\n",
    "    for _df_row in _set_df.iterrows():\n",
    "        if _comb_row.issubset(_df_row[1][1]):\n",
    "            _count += 1\n",
    "    _count_list.append(_count)"
   ]
  },
  {
   "cell_type": "code",
   "execution_count": 571,
   "metadata": {},
   "outputs": [],
   "source": [
    "# QUESTION 3: SAVE TO DF FOR LOW COUNT REMOVAL\n",
    "\n",
    "_df_data = {'combinations': _comb, 'occurances': _count_list}\n",
    "_df = pd.DataFrame(_df_data)"
   ]
  },
  {
   "cell_type": "code",
   "execution_count": 572,
   "metadata": {},
   "outputs": [
    {
     "data": {
      "text/html": [
       "<div>\n",
       "<style scoped>\n",
       "    .dataframe tbody tr th:only-of-type {\n",
       "        vertical-align: middle;\n",
       "    }\n",
       "\n",
       "    .dataframe tbody tr th {\n",
       "        vertical-align: top;\n",
       "    }\n",
       "\n",
       "    .dataframe thead th {\n",
       "        text-align: right;\n",
       "    }\n",
       "</style>\n",
       "<table border=\"1\" class=\"dataframe\">\n",
       "  <thead>\n",
       "    <tr style=\"text-align: right;\">\n",
       "      <th></th>\n",
       "      <th>combinations</th>\n",
       "      <th>occurances</th>\n",
       "    </tr>\n",
       "  </thead>\n",
       "  <tbody>\n",
       "    <tr>\n",
       "      <th>0</th>\n",
       "      <td>{B, D, E}</td>\n",
       "      <td>4</td>\n",
       "    </tr>\n",
       "    <tr>\n",
       "      <th>4</th>\n",
       "      <td>{A, D, E}</td>\n",
       "      <td>4</td>\n",
       "    </tr>\n",
       "  </tbody>\n",
       "</table>\n",
       "</div>"
      ],
      "text/plain": [
       "  combinations  occurances\n",
       "0    {B, D, E}           4\n",
       "4    {A, D, E}           4"
      ]
     },
     "execution_count": 572,
     "metadata": {},
     "output_type": "execute_result"
    }
   ],
   "source": [
    "# QUESTION 3: FINAL ANSWER\n",
    "_df = _df[_df['occurances'] >= 3]\n",
    "_df"
   ]
  },
  {
   "cell_type": "code",
   "execution_count": null,
   "metadata": {},
   "outputs": [],
   "source": [
    "# QUESTION 4:"
   ]
  }
 ],
 "metadata": {
  "interpreter": {
   "hash": "fdb09e5b8da7f685a786aa0263c6cb1e5633490d28f79ad5a28be447a3292200"
  },
  "kernelspec": {
   "display_name": "Python 3.8.10 64-bit ('venv': venv)",
   "name": "python3"
  },
  "language_info": {
   "codemirror_mode": {
    "name": "ipython",
    "version": 3
   },
   "file_extension": ".py",
   "mimetype": "text/x-python",
   "name": "python",
   "nbconvert_exporter": "python",
   "pygments_lexer": "ipython3",
   "version": "3.8.10"
  },
  "orig_nbformat": 4
 },
 "nbformat": 4,
 "nbformat_minor": 2
}
