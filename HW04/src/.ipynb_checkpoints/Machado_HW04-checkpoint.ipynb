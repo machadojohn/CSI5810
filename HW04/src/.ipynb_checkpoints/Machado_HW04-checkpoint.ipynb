{
 "cells": [
  {
   "cell_type": "code",
   "execution_count": null,
   "metadata": {},
   "outputs": [],
   "source": [
    "# MACHADO, JOHN; HOME WORK 4"
   ]
  },
  {
   "cell_type": "code",
   "execution_count": 1,
   "metadata": {},
   "outputs": [],
   "source": [
    "# IMPORTS AND SETTINGS\n",
    "\n",
    "import matplotlib.pyplot as plt\n",
    "import numpy as np\n",
    "import os\n",
    "import pandas as pd\n",
    "from random import randint, seed\n",
    "from scipy import linalg\n",
    "import seaborn\n",
    "from sklearn.cluster import KMeans\n",
    "from sklearn.decomposition import TruncatedSVD\n",
    "from sklearn.metrics import rand_score, mean_squared_error\n",
    "from sklearn.metrics.pairwise import cosine_similarity\n",
    "from sklearn.preprocessing import scale\n",
    "from time import time\n",
    "pd.set_option('display.expand_frame_repr', False)\n",
    "pd.set_option('precision',2)"
   ]
  },
  {
   "cell_type": "code",
   "execution_count": 736,
   "metadata": {},
   "outputs": [],
   "source": [
    "# QUESTION 1: SET UP DATAFRAME\n",
    "df = pd.read_csv(\n",
    "    '../assignment/question_1_data/cleaned_data.csv', \n",
    "    sep=',', \n",
    "    header=None\n",
    ")\n",
    "df.columns = [\n",
    "    'area',\n",
    "    'perimeter',\n",
    "    'compactness',\n",
    "    'kernal_length',\n",
    "    'kernal_width',\n",
    "    'assymetry_coefficient',\n",
    "    'groove_length',\n",
    "    'kernal_type'\n",
    "]"
   ]
  },
  {
   "cell_type": "code",
   "execution_count": 737,
   "metadata": {},
   "outputs": [],
   "source": [
    " # QUESTION 1: INITIAL VISUALIZATION\n",
    "\n",
    "# seaborn.pairplot(\n",
    "#     df, \n",
    "#     corner=True,\n",
    "#     hue='kernal_type',\n",
    "#     palette=['red', 'green', 'blue']\n",
    "# )"
   ]
  },
  {
   "cell_type": "code",
   "execution_count": 738,
   "metadata": {},
   "outputs": [],
   "source": [
    "# QUESTION 1: FUNCTION \n",
    "\n",
    "def q1(df):\n",
    "    _k_means_df = df[df.columns[:-1]]\n",
    "    _actual_df = pd.DataFrame(df[df.columns[-1]])\n",
    "    _actual_df.columns = ['actual']\n",
    "    _clusters = [2, 3, 4, 5]\n",
    "    _ri_values = []\n",
    "    _sse_values = []\n",
    "    for _c in _clusters:\n",
    "        _k_means = KMeans(\n",
    "            n_clusters = _c,\n",
    "            random_state = 2\n",
    "        )\n",
    "        _model = _k_means.fit(_k_means_df)\n",
    "        _sse_values.append(_k_means.inertia_)\n",
    "        _predicted_df = pd.DataFrame(_model.predict(_k_means_df))\n",
    "        _predicted_df.columns = ['predicted']\n",
    "        _ri = rand_score(_actual_df['actual'], _predicted_df['predicted'])\n",
    "        _ri_values.append(_ri)\n",
    "\n",
    "    _df_data = {\n",
    "        'k_values': [2, 3, 4, 5],\n",
    "        'SEE': _sse_values,\n",
    "        'RI': _ri_values\n",
    "    }\n",
    "    \n",
    "    return pd.DataFrame(_df_data) \n"
   ]
  },
  {
   "cell_type": "code",
   "execution_count": 739,
   "metadata": {},
   "outputs": [
    {
     "data": {
      "text/html": [
       "<div>\n",
       "<style scoped>\n",
       "    .dataframe tbody tr th:only-of-type {\n",
       "        vertical-align: middle;\n",
       "    }\n",
       "\n",
       "    .dataframe tbody tr th {\n",
       "        vertical-align: top;\n",
       "    }\n",
       "\n",
       "    .dataframe thead th {\n",
       "        text-align: right;\n",
       "    }\n",
       "</style>\n",
       "<table border=\"1\" class=\"dataframe\">\n",
       "  <thead>\n",
       "    <tr style=\"text-align: right;\">\n",
       "      <th></th>\n",
       "      <th>k_values</th>\n",
       "      <th>SEE</th>\n",
       "      <th>RI</th>\n",
       "    </tr>\n",
       "  </thead>\n",
       "  <tbody>\n",
       "    <tr>\n",
       "      <th>0</th>\n",
       "      <td>2</td>\n",
       "      <td>1011.61</td>\n",
       "      <td>0.73</td>\n",
       "    </tr>\n",
       "    <tr>\n",
       "      <th>1</th>\n",
       "      <td>3</td>\n",
       "      <td>587.32</td>\n",
       "      <td>0.87</td>\n",
       "    </tr>\n",
       "    <tr>\n",
       "      <th>2</th>\n",
       "      <td>4</td>\n",
       "      <td>471.03</td>\n",
       "      <td>0.84</td>\n",
       "    </tr>\n",
       "    <tr>\n",
       "      <th>3</th>\n",
       "      <td>5</td>\n",
       "      <td>386.16</td>\n",
       "      <td>0.82</td>\n",
       "    </tr>\n",
       "  </tbody>\n",
       "</table>\n",
       "</div>"
      ],
      "text/plain": [
       "   k_values      SEE    RI\n",
       "0         2  1011.61  0.73\n",
       "1         3   587.32  0.87\n",
       "2         4   471.03  0.84\n",
       "3         5   386.16  0.82"
      ]
     },
     "execution_count": 739,
     "metadata": {},
     "output_type": "execute_result"
    }
   ],
   "source": [
    "# QUESTION 1: NOT NORMALIZED\n",
    "\n",
    "_not_normalized = q1(df)\n",
    "_not_normalized"
   ]
  },
  {
   "cell_type": "code",
   "execution_count": 740,
   "metadata": {},
   "outputs": [
    {
     "data": {
      "text/html": [
       "<div>\n",
       "<style scoped>\n",
       "    .dataframe tbody tr th:only-of-type {\n",
       "        vertical-align: middle;\n",
       "    }\n",
       "\n",
       "    .dataframe tbody tr th {\n",
       "        vertical-align: top;\n",
       "    }\n",
       "\n",
       "    .dataframe thead th {\n",
       "        text-align: right;\n",
       "    }\n",
       "</style>\n",
       "<table border=\"1\" class=\"dataframe\">\n",
       "  <thead>\n",
       "    <tr style=\"text-align: right;\">\n",
       "      <th></th>\n",
       "      <th>k_values</th>\n",
       "      <th>SEE</th>\n",
       "      <th>RI</th>\n",
       "    </tr>\n",
       "  </thead>\n",
       "  <tbody>\n",
       "    <tr>\n",
       "      <th>0</th>\n",
       "      <td>2</td>\n",
       "      <td>659.17</td>\n",
       "      <td>0.73</td>\n",
       "    </tr>\n",
       "    <tr>\n",
       "      <th>1</th>\n",
       "      <td>3</td>\n",
       "      <td>430.66</td>\n",
       "      <td>0.90</td>\n",
       "    </tr>\n",
       "    <tr>\n",
       "      <th>2</th>\n",
       "      <td>4</td>\n",
       "      <td>371.30</td>\n",
       "      <td>0.86</td>\n",
       "    </tr>\n",
       "    <tr>\n",
       "      <th>3</th>\n",
       "      <td>5</td>\n",
       "      <td>326.31</td>\n",
       "      <td>0.81</td>\n",
       "    </tr>\n",
       "  </tbody>\n",
       "</table>\n",
       "</div>"
      ],
      "text/plain": [
       "   k_values     SEE    RI\n",
       "0         2  659.17  0.73\n",
       "1         3  430.66  0.90\n",
       "2         4  371.30  0.86\n",
       "3         5  326.31  0.81"
      ]
     },
     "execution_count": 740,
     "metadata": {},
     "output_type": "execute_result"
    }
   ],
   "source": [
    "# QUESTION 1: NORMALIZED\n",
    "\n",
    "_normalized = pd.DataFrame(scale(df[df.columns[:-1]]))\n",
    "_normalized.columns = df.columns[:-1]\n",
    "_normalized['kernal_type'] = df['kernal_type']\n",
    "_normalized = q1(_normalized)\n",
    "_normalized"
   ]
  },
  {
   "cell_type": "code",
   "execution_count": 741,
   "metadata": {},
   "outputs": [],
   "source": [
    "# QUESTION 1: PLOT FUNCTION\n",
    "\n",
    "def plotQ1(df, label):\n",
    "    fig, ax1 = plt.subplots()\n",
    "    ax2 = ax1.twinx()\n",
    "    ax1.plot(\n",
    "        df['k_values'], \n",
    "        df['SEE'], \n",
    "        'r-',\n",
    "        marker='o'\n",
    "    )\n",
    "    ax2.plot(\n",
    "        df['k_values'],\n",
    "        df['RI'],\n",
    "        'g-',\n",
    "        marker='o'\n",
    "    )\n",
    "    ax1.set_xticks(df['k_values'])\n",
    "    ax1.set_xlabel('k_values', fontsize=14)\n",
    "    ax1.set_ylabel('SEE', color='r', fontsize=14)\n",
    "    ax2.set_ylabel('RI', color='g', fontsize=14)\n",
    "    plt.title('{}'.format(label), fontsize=14)\n",
    "    plt.show()"
   ]
  },
  {
   "cell_type": "code",
   "execution_count": 742,
   "metadata": {},
   "outputs": [
    {
     "data": {
      "image/png": "[encoded data removed]",
      "text/plain": [
       "<Figure size 432x288 with 2 Axes>"
      ]
     },
     "metadata": {
      "needs_background": "light"
     },
     "output_type": "display_data"
    }
   ],
   "source": [
    "# QUESTION 1: NOT NORMALIZED PLOT\n",
    "\n",
    "plotQ1(_not_normalized, 'NOT NORMALIZED')"
   ]
  },
  {
   "cell_type": "code",
   "execution_count": 743,
   "metadata": {},
   "outputs": [
    {
     "data": {
      "image/png": "[encoded data removed]",
      "text/plain": [
       "<Figure size 432x288 with 2 Axes>"
      ]
     },
     "metadata": {
      "needs_background": "light"
     },
     "output_type": "display_data"
    }
   ],
   "source": [
    "# QUESTION 1: PLOT NORMALIZED\n",
    "\n",
    "plotQ1(_normalized, 'NORMALIZED')"
   ]
  },
  {
   "cell_type": "code",
   "execution_count": 744,
   "metadata": {},
   "outputs": [],
   "source": [
    "# QUESTION 2: SET UP DATAFRAMED\n",
    "\n",
    "df = pd.read_csv(\n",
    "    '../assignment/question_2_data/cleaned_data.csv', \n",
    "    sep=','\n",
    ")"
   ]
  },
  {
   "cell_type": "code",
   "execution_count": 745,
   "metadata": {},
   "outputs": [],
   "source": [
    "scaled_df = pd.DataFrame(scale(df))\n",
    "scaled_df.columns = df.columns"
   ]
  },
  {
   "cell_type": "code",
   "execution_count": 746,
   "metadata": {},
   "outputs": [],
   "source": [
    "# QUESTION 2: LINEAR PREDICTION FUNCTION\n",
    "# code below is a modified version of code from Regression Modeling Slide Deck, Slide 19\n",
    "\n",
    "def q2(x, y, learn_rate, iterations):\n",
    "    _x0 = np.ones((len(x), 1))\n",
    "    X = np.hstack((_x0, x))\n",
    "    w = np.random.randn(X.shape[1])\n",
    "    result = []\n",
    "    _loss = 0\n",
    "    for _t in range(iterations):\n",
    "        _y_pred = X.dot(w)\n",
    "        _loss = np.square(_y_pred - y).sum()\n",
    "        result.append(_loss)\n",
    "        _grad_y_pred = 2.0 * (_y_pred - y)\n",
    "        _grad_w = X.T.dot(_grad_y_pred)\n",
    "        w -= learn_rate * _grad_w\n",
    "    return w, result"
   ]
  },
  {
   "cell_type": "code",
   "execution_count": 747,
   "metadata": {},
   "outputs": [],
   "source": [
    "# QUESTION 2: PREDICT FUNCTION\n",
    "\n",
    "def q2predict(x, w):\n",
    "    _x0 = np.ones((len(x), 1))\n",
    "    X = np.hstack((_x0, x))\n",
    "    return X.dot(w)\n",
    "    "
   ]
  },
  {
   "cell_type": "code",
   "execution_count": 748,
   "metadata": {},
   "outputs": [
    {
     "name": "stdout",
     "output_type": "stream",
     "text": [
      "Testing learining rate 0.001 with 1000 iterations.\n",
      "Testing learining rate 0.0001 with 1000 iterations.\n",
      "Testing learining rate 1e-05 with 1000 iterations.\n"
     ]
    }
   ],
   "source": [
    "# QUESTION 2: TEST LOOP\n",
    "\n",
    "_features = ['police_funding', 'over_25_hs', 'under_19_no_hs', 'college_students', 'over_25_college']\n",
    "_x = scaled_df[_features]\n",
    "_y = scaled_df['violent_crime']\n",
    "_learning_rates = [1e-3, 1E-4, 1e-5]\n",
    "_iteration_list = [1_000]\n",
    "_test_rates = []\n",
    "_test_iterations = []\n",
    "_ellapsed_times = []\n",
    "_w_list = []\n",
    "_error_list = []\n",
    "_mse_list=[]\n",
    "\n",
    "for _rate in _learning_rates:\n",
    "    for _iterations in _iteration_list:\n",
    "        print('Testing learining rate {} with {} iterations.'.format(_rate, _iterations))\n",
    "        if _rate == 1e-5: _iterations = 10_000\n",
    "        start_time = time()\n",
    "        _w, _error = q2(_x, _y, _rate, _iterations)\n",
    "        stop_time = time()\n",
    "        _test_rates.append(_rate)\n",
    "        _test_iterations.append(_iterations)\n",
    "        _ellapsed_times.append(stop_time - start_time)\n",
    "        _w_list.append(_w)\n",
    "        _error_list.append(_error)\n",
    "        _mse_list.append(mean_squared_error(_y, q2predict(_x, _w)))\n",
    "\n",
    "_result = {\n",
    "    'learning_rates': _test_rates,\n",
    "    'iteration_list': _test_iterations,\n",
    "    'ellapsed_time': _ellapsed_times,\n",
    "    'mse': _mse_list,\n",
    "    'w': _w_list,\n",
    "    'error': _error_list\n",
    "}\n",
    "        \n",
    "result = pd.DataFrame(_result)\n",
    "\n"
   ]
  },
  {
   "cell_type": "code",
   "execution_count": 749,
   "metadata": {},
   "outputs": [],
   "source": [
    "# QUESTION 2: SAVE RESULTS\n",
    "\n",
    "result.to_csv('result.csv')"
   ]
  },
  {
   "cell_type": "code",
   "execution_count": 750,
   "metadata": {},
   "outputs": [
    {
     "data": {
      "image/png": "[encoded data removed]",
      "text/plain": [
       "<Figure size 720x360 with 1 Axes>"
      ]
     },
     "metadata": {
      "needs_background": "light"
     },
     "output_type": "display_data"
    }
   ],
   "source": [
    "# QUESTION 2: MSE PLOT\n",
    "\n",
    "_x = result['learning_rates']\n",
    "_y = result['mse']\n",
    "plt.figure(figsize=(10,5))\n",
    "plt.plot(\n",
    "    _x,\n",
    "    _y,\n",
    "    'b-',\n",
    "    marker='o'\n",
    ")\n",
    "# for _lr, _et, _it in zip(_x,_y, result['iteration_list']):\n",
    "#     label = '{:,} iterations'.format(_it)\n",
    "#     plt.annotate(\n",
    "#         text=label,\n",
    "#         xy=(_lr,_et),\n",
    "#         xytext=(5,2),\n",
    "#         textcoords=('offset pixels')\n",
    "#     )\n",
    "plt.xscale('log')\n",
    "plt.ylabel('MSE', fontsize=16)\n",
    "plt.xlabel('LEARNING RATE', fontsize=16)\n",
    "plt.xticks(_x)\n",
    "plt.title('MSE for Each Learning Rate', fontsize=16)\n",
    "plt.show()"
   ]
  },
  {
   "cell_type": "code",
   "execution_count": 751,
   "metadata": {},
   "outputs": [],
   "source": [
    "# QUESTION 2: ERROR VS ITERATION PLOT FUNCTION\n",
    "\n",
    "def q2ErrorPlot(test):\n",
    "    _x = np.arange(len(result.iloc[test,5]))\n",
    "    _y = result.iloc[test,5]\n",
    "    plt.figure(figsize=(10,5))\n",
    "    plt.plot(\n",
    "        _x,\n",
    "        _y,\n",
    "        'b-',\n",
    "    )\n",
    "    plt.xscale('log')\n",
    "    plt.ylabel('ERROR', fontsize=16)\n",
    "    plt.xlabel('ITERATION', fontsize=16)\n",
    "    plt.title('Error Evolution in {:,} Iterations with Learning Rate of {}'.format(result.iloc[test,1], result.iloc[test,0]), fontsize=16)\n",
    "    plt.show()"
   ]
  },
  {
   "cell_type": "code",
   "execution_count": 752,
   "metadata": {},
   "outputs": [
    {
     "data": {
      "image/png": "[encoded data removed]",
      "text/plain": [
       "<Figure size 720x360 with 1 Axes>"
      ]
     },
     "metadata": {
      "needs_background": "light"
     },
     "output_type": "display_data"
    }
   ],
   "source": [
    "# QUESTION 2: PLOT LEARNING RATE 0.1, ITERATIONS 1,000\n",
    "\n",
    "q2ErrorPlot(0)"
   ]
  },
  {
   "cell_type": "code",
   "execution_count": 753,
   "metadata": {},
   "outputs": [
    {
     "data": {
      "image/png": "[encoded data removed]",
      "text/plain": [
       "<Figure size 720x360 with 1 Axes>"
      ]
     },
     "metadata": {
      "needs_background": "light"
     },
     "output_type": "display_data"
    }
   ],
   "source": [
    "# QUESTION 2: PLOT LEARNING RATE 0.01, ITERATIONS 1,000\n",
    "\n",
    "q2ErrorPlot(1)"
   ]
  },
  {
   "cell_type": "code",
   "execution_count": 754,
   "metadata": {},
   "outputs": [
    {
     "data": {
      "image/png": "[encoded data removed]",
      "text/plain": [
       "<Figure size 720x360 with 1 Axes>"
      ]
     },
     "metadata": {
      "needs_background": "light"
     },
     "output_type": "display_data"
    }
   ],
   "source": [
    "# QUESTION 2: PLOT LEARNING RATE 0.001, ITERATIONS 1,000\n",
    "\n",
    "q2ErrorPlot(2)"
   ]
  },
  {
   "cell_type": "code",
   "execution_count": 755,
   "metadata": {},
   "outputs": [
    {
     "data": {
      "image/png": "[encoded data removed]",
      "text/plain": [
       "<Figure size 720x360 with 1 Axes>"
      ]
     },
     "metadata": {
      "needs_background": "light"
     },
     "output_type": "display_data"
    }
   ],
   "source": [
    "# QUESTION 2: TIME TAKEN FOR EACH TEST\n",
    "\n",
    "_x = result['learning_rates']\n",
    "_y = result['ellapsed_time']\n",
    "plt.figure(figsize=(10,5))\n",
    "plt.plot(\n",
    "    _x,\n",
    "    _y,\n",
    "    'b-',\n",
    "    marker='o'\n",
    ")\n",
    "for _lr, _et, _it in zip(_x,_y, result['iteration_list']):\n",
    "    label = '{:,} iterations'.format(_it)\n",
    "    plt.annotate(\n",
    "        text=label,\n",
    "        xy=(_lr,_et),\n",
    "        xytext=(5,2),\n",
    "        textcoords=('offset pixels')\n",
    "    )\n",
    "plt.xscale('log')\n",
    "plt.ylabel('TIME TAKEN ', fontsize=16)\n",
    "plt.xlabel('LEARNING RATE', fontsize=16)\n",
    "plt.xticks(_x)\n",
    "plt.title('Time Taken for Learning Rate', fontsize=16)\n",
    "plt.show()"
   ]
  },
  {
   "cell_type": "code",
   "execution_count": 756,
   "metadata": {},
   "outputs": [],
   "source": [
    "# QUESTIN 3: SETUP COUNT DATAFRAME\n",
    "# put all questio 3 cells into a loop if there is time\n",
    "\n",
    "A = 'A'\n",
    "B = 'B'\n",
    "C = 'C'\n",
    "D = 'D'\n",
    "E = 'E'\n",
    "_items_bought_list = [\n",
    "    {A, B, D, E},\n",
    "    {B, C, D},\n",
    "    {A, B, D, E},\n",
    "    {A, C, D, E},\n",
    "    {B, C, D, E},\n",
    "    {B, D, E},\n",
    "    {C, D},\n",
    "    {A, B, C},\n",
    "    {A, D, E},\n",
    "    {B, D},\n",
    "]\n",
    "\n",
    "_tid_df_list = []\n",
    "_items_df_list = []\n",
    "for _i,_row in enumerate(_items_bought_list):\n",
    "    for _item in _row:\n",
    "        _tid_df_list.append(_i+1)\n",
    "        _items_df_list.append(_item)\n",
    "_df_data = {\n",
    "    'TID': _tid_df_list,\n",
    "    'items': _items_df_list\n",
    "}\n",
    "_count_df = pd.DataFrame(_df_data)"
   ]
  },
  {
   "cell_type": "code",
   "execution_count": 757,
   "metadata": {},
   "outputs": [
    {
     "data": {
      "text/html": [
       "<div>\n",
       "<style scoped>\n",
       "    .dataframe tbody tr th:only-of-type {\n",
       "        vertical-align: middle;\n",
       "    }\n",
       "\n",
       "    .dataframe tbody tr th {\n",
       "        vertical-align: top;\n",
       "    }\n",
       "\n",
       "    .dataframe thead th {\n",
       "        text-align: right;\n",
       "    }\n",
       "</style>\n",
       "<table border=\"1\" class=\"dataframe\">\n",
       "  <thead>\n",
       "    <tr style=\"text-align: right;\">\n",
       "      <th></th>\n",
       "      <th>TID</th>\n",
       "      <th>items</th>\n",
       "    </tr>\n",
       "  </thead>\n",
       "  <tbody>\n",
       "    <tr>\n",
       "      <th>0</th>\n",
       "      <td>1</td>\n",
       "      <td>{A, B, D, E}</td>\n",
       "    </tr>\n",
       "    <tr>\n",
       "      <th>1</th>\n",
       "      <td>2</td>\n",
       "      <td>{C, B, D}</td>\n",
       "    </tr>\n",
       "    <tr>\n",
       "      <th>2</th>\n",
       "      <td>3</td>\n",
       "      <td>{A, B, D, E}</td>\n",
       "    </tr>\n",
       "    <tr>\n",
       "      <th>3</th>\n",
       "      <td>4</td>\n",
       "      <td>{A, C, D, E}</td>\n",
       "    </tr>\n",
       "    <tr>\n",
       "      <th>4</th>\n",
       "      <td>5</td>\n",
       "      <td>{C, B, D, E}</td>\n",
       "    </tr>\n",
       "    <tr>\n",
       "      <th>5</th>\n",
       "      <td>6</td>\n",
       "      <td>{B, D, E}</td>\n",
       "    </tr>\n",
       "    <tr>\n",
       "      <th>6</th>\n",
       "      <td>7</td>\n",
       "      <td>{C, D}</td>\n",
       "    </tr>\n",
       "    <tr>\n",
       "      <th>7</th>\n",
       "      <td>8</td>\n",
       "      <td>{A, C, B}</td>\n",
       "    </tr>\n",
       "    <tr>\n",
       "      <th>8</th>\n",
       "      <td>9</td>\n",
       "      <td>{A, D, E}</td>\n",
       "    </tr>\n",
       "    <tr>\n",
       "      <th>9</th>\n",
       "      <td>10</td>\n",
       "      <td>{B, D}</td>\n",
       "    </tr>\n",
       "  </tbody>\n",
       "</table>\n",
       "</div>"
      ],
      "text/plain": [
       "   TID         items\n",
       "0    1  {A, B, D, E}\n",
       "1    2     {C, B, D}\n",
       "2    3  {A, B, D, E}\n",
       "3    4  {A, C, D, E}\n",
       "4    5  {C, B, D, E}\n",
       "5    6     {B, D, E}\n",
       "6    7        {C, D}\n",
       "7    8     {A, C, B}\n",
       "8    9     {A, D, E}\n",
       "9   10        {B, D}"
      ]
     },
     "execution_count": 757,
     "metadata": {},
     "output_type": "execute_result"
    }
   ],
   "source": [
    "# QUESTION 3: SET UP SET DATAFRAME\n",
    "\n",
    "A = 'A'\n",
    "B = 'B'\n",
    "C = 'C'\n",
    "D = 'D'\n",
    "E = 'E'\n",
    "_items_bought_list = [\n",
    "    {A, B, D, E},\n",
    "    {B, C, D},\n",
    "    {A, B, D, E},\n",
    "    {A, C, D, E},\n",
    "    {B, C, D, E},\n",
    "    {B, D, E},\n",
    "    {C, D},\n",
    "    {A, B, C},\n",
    "    {A, D, E},\n",
    "    {B, D},\n",
    "]\n",
    "_tid_list = np.arange(len(_items_bought_list)) + 1\n",
    "_df_data = {\n",
    "    'TID': _tid_list,\n",
    "    'items': _items_bought_list\n",
    "}\n",
    "_set_df = pd.DataFrame(_df_data)\n",
    "_set_df"
   ]
  },
  {
   "cell_type": "code",
   "execution_count": 758,
   "metadata": {},
   "outputs": [
    {
     "data": {
      "text/plain": [
       "D    9\n",
       "B    7\n",
       "E    6\n",
       "A    5\n",
       "C    5\n",
       "Name: items, dtype: int64"
      ]
     },
     "execution_count": 758,
     "metadata": {},
     "output_type": "execute_result"
    }
   ],
   "source": [
    "# QUESTION 3: INITIAL COUNTS\n",
    "_min_support = 2\n",
    "_c = _count_df['items'].value_counts()\n",
    "_c\n",
    "_l = _c[_c >= _min_support]\n",
    "_l"
   ]
  },
  {
   "cell_type": "code",
   "execution_count": 759,
   "metadata": {},
   "outputs": [],
   "source": [
    "# QUESTION 3: INITIAL COMBINATIONS\n",
    "_comb = []\n",
    "_keys = _l.keys()\n",
    "_len = len(_keys)\n",
    "for _i in range(_len):\n",
    "    for _j in range(_i+1, _len):\n",
    "        _comb.append({_keys[_i], _keys[_j]})"
   ]
  },
  {
   "cell_type": "code",
   "execution_count": 760,
   "metadata": {},
   "outputs": [],
   "source": [
    "# QUESTION 3: COUNT OCCURANCES\n",
    "\n",
    "_count_list = []\n",
    "for _comb_row in _comb:\n",
    "    _count = 0\n",
    "    for _df_row in _set_df.iterrows():\n",
    "        if _comb_row.issubset(_df_row[1][1]):\n",
    "            _count += 1\n",
    "    _count_list.append(_count)"
   ]
  },
  {
   "cell_type": "code",
   "execution_count": 761,
   "metadata": {},
   "outputs": [],
   "source": [
    "# QUESTION 3: SAVE TO DF FOR LOW COUNT REMOVAL\n",
    "\n",
    "_df_data = {'combinations': _comb, 'occurances': _count_list}\n",
    "_df = pd.DataFrame(_df_data)"
   ]
  },
  {
   "cell_type": "code",
   "execution_count": 762,
   "metadata": {},
   "outputs": [
    {
     "data": {
      "text/html": [
       "<div>\n",
       "<style scoped>\n",
       "    .dataframe tbody tr th:only-of-type {\n",
       "        vertical-align: middle;\n",
       "    }\n",
       "\n",
       "    .dataframe tbody tr th {\n",
       "        vertical-align: top;\n",
       "    }\n",
       "\n",
       "    .dataframe thead th {\n",
       "        text-align: right;\n",
       "    }\n",
       "</style>\n",
       "<table border=\"1\" class=\"dataframe\">\n",
       "  <thead>\n",
       "    <tr style=\"text-align: right;\">\n",
       "      <th></th>\n",
       "      <th>combinations</th>\n",
       "      <th>occurances</th>\n",
       "    </tr>\n",
       "  </thead>\n",
       "  <tbody>\n",
       "    <tr>\n",
       "      <th>0</th>\n",
       "      <td>{B, D}</td>\n",
       "      <td>6</td>\n",
       "    </tr>\n",
       "    <tr>\n",
       "      <th>1</th>\n",
       "      <td>{D, E}</td>\n",
       "      <td>6</td>\n",
       "    </tr>\n",
       "    <tr>\n",
       "      <th>2</th>\n",
       "      <td>{A, D}</td>\n",
       "      <td>4</td>\n",
       "    </tr>\n",
       "    <tr>\n",
       "      <th>3</th>\n",
       "      <td>{C, D}</td>\n",
       "      <td>4</td>\n",
       "    </tr>\n",
       "    <tr>\n",
       "      <th>4</th>\n",
       "      <td>{B, E}</td>\n",
       "      <td>4</td>\n",
       "    </tr>\n",
       "    <tr>\n",
       "      <th>5</th>\n",
       "      <td>{A, B}</td>\n",
       "      <td>3</td>\n",
       "    </tr>\n",
       "    <tr>\n",
       "      <th>6</th>\n",
       "      <td>{C, B}</td>\n",
       "      <td>3</td>\n",
       "    </tr>\n",
       "    <tr>\n",
       "      <th>7</th>\n",
       "      <td>{A, E}</td>\n",
       "      <td>4</td>\n",
       "    </tr>\n",
       "  </tbody>\n",
       "</table>\n",
       "</div>"
      ],
      "text/plain": [
       "  combinations  occurances\n",
       "0       {B, D}           6\n",
       "1       {D, E}           6\n",
       "2       {A, D}           4\n",
       "3       {C, D}           4\n",
       "4       {B, E}           4\n",
       "5       {A, B}           3\n",
       "6       {C, B}           3\n",
       "7       {A, E}           4"
      ]
     },
     "execution_count": 762,
     "metadata": {},
     "output_type": "execute_result"
    }
   ],
   "source": [
    "# QUESTION 3: LOW COUNT REMOVAL\n",
    "\n",
    "_df = _df[_df['occurances'] >= 3]\n",
    "_df"
   ]
  },
  {
   "cell_type": "code",
   "execution_count": 763,
   "metadata": {},
   "outputs": [
    {
     "data": {
      "text/plain": [
       "[{'B', 'D', 'E'},\n",
       " {'A', 'B', 'D'},\n",
       " {'B', 'C', 'D'},\n",
       " {'A', 'B', 'D', 'E'},\n",
       " {'A', 'D', 'E'},\n",
       " {'C', 'D', 'E'},\n",
       " {'B', 'C', 'D', 'E'},\n",
       " {'A', 'C', 'D'},\n",
       " {'A', 'B', 'C', 'D'},\n",
       " {'A', 'C', 'D', 'E'},\n",
       " {'A', 'B', 'E'},\n",
       " {'B', 'C', 'E'},\n",
       " {'A', 'B', 'C'},\n",
       " {'A', 'B', 'C', 'E'}]"
      ]
     },
     "execution_count": 763,
     "metadata": {},
     "output_type": "execute_result"
    }
   ],
   "source": [
    "# QUESTION 3: NEW COMBINATIONS\n",
    "\n",
    "_n = []\n",
    "_combs = _df['combinations']\n",
    "_len = len(_combs)\n",
    "for _i in range(_len):\n",
    "    for _j in range(_i+1,_len):\n",
    "        _n.append(_combs[_i].union(_combs[_j]))\n",
    "_comb = []\n",
    "[_comb.append(x) for x in _n if x not in _comb]\n",
    "_comb\n"
   ]
  },
  {
   "cell_type": "code",
   "execution_count": 764,
   "metadata": {},
   "outputs": [],
   "source": [
    "# QUESTION 3: COUNT OCCURANCES\n",
    "\n",
    "_count_list = []\n",
    "for _comb_row in _comb:\n",
    "    _count = 0\n",
    "    for _df_row in _set_df.iterrows():\n",
    "        if _comb_row.issubset(_df_row[1][1]):\n",
    "            _count += 1\n",
    "    _count_list.append(_count)"
   ]
  },
  {
   "cell_type": "code",
   "execution_count": 765,
   "metadata": {},
   "outputs": [],
   "source": [
    "# QUESTION 3: SAVE TO DF FOR LOW COUNT REMOVAL\n",
    "\n",
    "_df_data = {'combinations': _comb, 'occurances': _count_list}\n",
    "_df = pd.DataFrame(_df_data)"
   ]
  },
  {
   "cell_type": "code",
   "execution_count": 766,
   "metadata": {},
   "outputs": [
    {
     "data": {
      "text/html": [
       "<div>\n",
       "<style scoped>\n",
       "    .dataframe tbody tr th:only-of-type {\n",
       "        vertical-align: middle;\n",
       "    }\n",
       "\n",
       "    .dataframe tbody tr th {\n",
       "        vertical-align: top;\n",
       "    }\n",
       "\n",
       "    .dataframe thead th {\n",
       "        text-align: right;\n",
       "    }\n",
       "</style>\n",
       "<table border=\"1\" class=\"dataframe\">\n",
       "  <thead>\n",
       "    <tr style=\"text-align: right;\">\n",
       "      <th></th>\n",
       "      <th>combinations</th>\n",
       "      <th>occurances</th>\n",
       "    </tr>\n",
       "  </thead>\n",
       "  <tbody>\n",
       "    <tr>\n",
       "      <th>0</th>\n",
       "      <td>{B, D, E}</td>\n",
       "      <td>4</td>\n",
       "    </tr>\n",
       "    <tr>\n",
       "      <th>4</th>\n",
       "      <td>{A, D, E}</td>\n",
       "      <td>4</td>\n",
       "    </tr>\n",
       "  </tbody>\n",
       "</table>\n",
       "</div>"
      ],
      "text/plain": [
       "  combinations  occurances\n",
       "0    {B, D, E}           4\n",
       "4    {A, D, E}           4"
      ]
     },
     "execution_count": 766,
     "metadata": {},
     "output_type": "execute_result"
    }
   ],
   "source": [
    "# QUESTION 3: FINAL ANSWER\n",
    "_df = _df[_df['occurances'] >= 3]\n",
    "_df"
   ]
  },
  {
   "cell_type": "code",
   "execution_count": 767,
   "metadata": {},
   "outputs": [
    {
     "data": {
      "text/html": [
       "<div>\n",
       "<style scoped>\n",
       "    .dataframe tbody tr th:only-of-type {\n",
       "        vertical-align: middle;\n",
       "    }\n",
       "\n",
       "    .dataframe tbody tr th {\n",
       "        vertical-align: top;\n",
       "    }\n",
       "\n",
       "    .dataframe thead th {\n",
       "        text-align: right;\n",
       "    }\n",
       "</style>\n",
       "<table border=\"1\" class=\"dataframe\">\n",
       "  <thead>\n",
       "    <tr style=\"text-align: right;\">\n",
       "      <th></th>\n",
       "      <th>KEYS</th>\n",
       "      <th>D1</th>\n",
       "      <th>D2</th>\n",
       "      <th>D3</th>\n",
       "      <th>D4</th>\n",
       "      <th>D5</th>\n",
       "      <th>D6</th>\n",
       "    </tr>\n",
       "  </thead>\n",
       "  <tbody>\n",
       "    <tr>\n",
       "      <th>0</th>\n",
       "      <td>K1</td>\n",
       "      <td>True</td>\n",
       "      <td>False</td>\n",
       "      <td>True</td>\n",
       "      <td>False</td>\n",
       "      <td>False</td>\n",
       "      <td>False</td>\n",
       "    </tr>\n",
       "    <tr>\n",
       "      <th>1</th>\n",
       "      <td>K2</td>\n",
       "      <td>False</td>\n",
       "      <td>True</td>\n",
       "      <td>False</td>\n",
       "      <td>False</td>\n",
       "      <td>False</td>\n",
       "      <td>False</td>\n",
       "    </tr>\n",
       "    <tr>\n",
       "      <th>2</th>\n",
       "      <td>K3</td>\n",
       "      <td>True</td>\n",
       "      <td>True</td>\n",
       "      <td>False</td>\n",
       "      <td>False</td>\n",
       "      <td>False</td>\n",
       "      <td>False</td>\n",
       "    </tr>\n",
       "    <tr>\n",
       "      <th>3</th>\n",
       "      <td>K4</td>\n",
       "      <td>True</td>\n",
       "      <td>False</td>\n",
       "      <td>False</td>\n",
       "      <td>True</td>\n",
       "      <td>True</td>\n",
       "      <td>False</td>\n",
       "    </tr>\n",
       "    <tr>\n",
       "      <th>4</th>\n",
       "      <td>K5</td>\n",
       "      <td>False</td>\n",
       "      <td>False</td>\n",
       "      <td>False</td>\n",
       "      <td>True</td>\n",
       "      <td>False</td>\n",
       "      <td>True</td>\n",
       "    </tr>\n",
       "  </tbody>\n",
       "</table>\n",
       "</div>"
      ],
      "text/plain": [
       "  KEYS     D1     D2     D3     D4     D5     D6\n",
       "0   K1   True  False   True  False  False  False\n",
       "1   K2  False   True  False  False  False  False\n",
       "2   K3   True   True  False  False  False  False\n",
       "3   K4   True  False  False   True   True  False\n",
       "4   K5  False  False  False   True  False   True"
      ]
     },
     "execution_count": 767,
     "metadata": {},
     "output_type": "execute_result"
    }
   ],
   "source": [
    "# QUESTION 4: SETUP DATA\n",
    "\n",
    "_data = {\n",
    "    'KEYS': ['K1', 'K2', 'K3', 'K4', 'K5'],\n",
    "    'D1': [True, False, True, True, False],\n",
    "    'D2': [False, True, True, False, False],\n",
    "    'D3': [True, False, False, False, False],\n",
    "    'D4': [False, False, False, True, True],\n",
    "    'D5': [False, False, False, True, False],\n",
    "    'D6': [False, False, False, False, True]\n",
    "}\n",
    "df = pd.DataFrame(_data)\n",
    "df"
   ]
  },
  {
   "cell_type": "code",
   "execution_count": 768,
   "metadata": {},
   "outputs": [],
   "source": [
    "# QUESTION 4: GET SVD SPECIFIC DATA\n",
    "\n",
    "np.set_printoptions(precision=2)\n",
    "_svd_df = df.iloc[:,1:]"
   ]
  },
  {
   "cell_type": "code",
   "execution_count": 769,
   "metadata": {},
   "outputs": [
    {
     "data": {
      "text/html": [
       "<div>\n",
       "<style scoped>\n",
       "    .dataframe tbody tr th:only-of-type {\n",
       "        vertical-align: middle;\n",
       "    }\n",
       "\n",
       "    .dataframe tbody tr th {\n",
       "        vertical-align: top;\n",
       "    }\n",
       "\n",
       "    .dataframe thead th {\n",
       "        text-align: right;\n",
       "    }\n",
       "</style>\n",
       "<table border=\"1\" class=\"dataframe\">\n",
       "  <thead>\n",
       "    <tr style=\"text-align: right;\">\n",
       "      <th></th>\n",
       "      <th>0</th>\n",
       "    </tr>\n",
       "  </thead>\n",
       "  <tbody>\n",
       "    <tr>\n",
       "      <th>0</th>\n",
       "      <td>2.16</td>\n",
       "    </tr>\n",
       "    <tr>\n",
       "      <th>1</th>\n",
       "      <td>1.59</td>\n",
       "    </tr>\n",
       "    <tr>\n",
       "      <th>2</th>\n",
       "      <td>1.28</td>\n",
       "    </tr>\n",
       "    <tr>\n",
       "      <th>3</th>\n",
       "      <td>1.00</td>\n",
       "    </tr>\n",
       "    <tr>\n",
       "      <th>4</th>\n",
       "      <td>0.39</td>\n",
       "    </tr>\n",
       "  </tbody>\n",
       "</table>\n",
       "</div>"
      ],
      "text/plain": [
       "      0\n",
       "0  2.16\n",
       "1  1.59\n",
       "2  1.28\n",
       "3  1.00\n",
       "4  0.39"
      ]
     },
     "execution_count": 769,
     "metadata": {},
     "output_type": "execute_result"
    }
   ],
   "source": [
    "# QUESTION 4: (i) Obtain the singular value decomposition of F. \n",
    "\n",
    "U, s, V = linalg.svd(_svd_df)\n",
    "s_print = pd.DataFrame(s)\n",
    "s_print"
   ]
  },
  {
   "cell_type": "code",
   "execution_count": 770,
   "metadata": {},
   "outputs": [
    {
     "data": {
      "text/html": [
       "<div>\n",
       "<style scoped>\n",
       "    .dataframe tbody tr th:only-of-type {\n",
       "        vertical-align: middle;\n",
       "    }\n",
       "\n",
       "    .dataframe tbody tr th {\n",
       "        vertical-align: top;\n",
       "    }\n",
       "\n",
       "    .dataframe thead th {\n",
       "        text-align: right;\n",
       "    }\n",
       "</style>\n",
       "<table border=\"1\" class=\"dataframe\">\n",
       "  <thead>\n",
       "    <tr style=\"text-align: right;\">\n",
       "      <th></th>\n",
       "      <th>s[0]*U[:,0]</th>\n",
       "      <th>s[1]*U[:,1]</th>\n",
       "    </tr>\n",
       "  </thead>\n",
       "  <tbody>\n",
       "    <tr>\n",
       "      <th>0</th>\n",
       "      <td>0.95</td>\n",
       "      <td>-0.47</td>\n",
       "    </tr>\n",
       "    <tr>\n",
       "      <th>1</th>\n",
       "      <td>0.28</td>\n",
       "      <td>-0.53</td>\n",
       "    </tr>\n",
       "    <tr>\n",
       "      <th>2</th>\n",
       "      <td>1.03</td>\n",
       "      <td>-0.81</td>\n",
       "    </tr>\n",
       "    <tr>\n",
       "      <th>3</th>\n",
       "      <td>1.52</td>\n",
       "      <td>0.56</td>\n",
       "    </tr>\n",
       "    <tr>\n",
       "      <th>4</th>\n",
       "      <td>0.57</td>\n",
       "      <td>1.03</td>\n",
       "    </tr>\n",
       "  </tbody>\n",
       "</table>\n",
       "</div>"
      ],
      "text/plain": [
       "   s[0]*U[:,0]  s[1]*U[:,1]\n",
       "0         0.95        -0.47\n",
       "1         0.28        -0.53\n",
       "2         1.03        -0.81\n",
       "3         1.52         0.56\n",
       "4         0.57         1.03"
      ]
     },
     "execution_count": 770,
     "metadata": {},
     "output_type": "execute_result"
    }
   ],
   "source": [
    "# QUESTION 4: (ii) Reconstruct F using only the toptwo singular values.\n",
    "\n",
    "_lsa = TruncatedSVD(\n",
    "    2, \n",
    "    algorithm='arpack'\n",
    ")\n",
    "Fa = _lsa.fit_transform(_svd_df)\n",
    "Fa_print = pd.DataFrame(Fa)\n",
    "Fa_print.columns = ['s[0]*U[:,0]', 's[1]*U[:,1]']\n",
    "Fa_print"
   ]
  },
  {
   "cell_type": "code",
   "execution_count": 771,
   "metadata": {},
   "outputs": [
    {
     "data": {
      "text/plain": [
       "Text(0.5, 1.0, 'Fa in Two Dimensions')"
      ]
     },
     "execution_count": 771,
     "metadata": {},
     "output_type": "execute_result"
    },
    {
     "data": {
      "image/png": "[encoded data removed]",
      "text/plain": [
       "<Figure size 720x360 with 1 Axes>"
      ]
     },
     "metadata": {
      "needs_background": "light"
     },
     "output_type": "display_data"
    }
   ],
   "source": [
    "# QUESTION 4: (iii) Show the representation of the documents and the keywords in the 2-D space after SVD application.\n",
    "\n",
    "plt.figure(figsize=(10,5))\n",
    "plt.scatter(\n",
    "    Fa_print.iloc[:,0], \n",
    "    Fa_print.iloc[:,1]\n",
    ")\n",
    "plt.xlabel('s[0] * U[:,0]', fontsize=16)\n",
    "plt.ylabel('s[1] * U[:,1]', fontsize=16)\n",
    "plt.title('Fa in Two Dimensions', fontsize=18)"
   ]
  },
  {
   "cell_type": "code",
   "execution_count": 772,
   "metadata": {},
   "outputs": [
    {
     "data": {
      "text/html": [
       "<div>\n",
       "<style scoped>\n",
       "    .dataframe tbody tr th:only-of-type {\n",
       "        vertical-align: middle;\n",
       "    }\n",
       "\n",
       "    .dataframe tbody tr th {\n",
       "        vertical-align: top;\n",
       "    }\n",
       "\n",
       "    .dataframe thead th {\n",
       "        text-align: right;\n",
       "    }\n",
       "</style>\n",
       "<table border=\"1\" class=\"dataframe\">\n",
       "  <thead>\n",
       "    <tr style=\"text-align: right;\">\n",
       "      <th></th>\n",
       "      <th>0</th>\n",
       "      <th>1</th>\n",
       "      <th>2</th>\n",
       "      <th>3</th>\n",
       "      <th>4</th>\n",
       "    </tr>\n",
       "  </thead>\n",
       "  <tbody>\n",
       "    <tr>\n",
       "      <th>0</th>\n",
       "      <td>1.00</td>\n",
       "      <td>0.00</td>\n",
       "      <td>0.50</td>\n",
       "      <td>0.41</td>\n",
       "      <td>0.00</td>\n",
       "    </tr>\n",
       "    <tr>\n",
       "      <th>1</th>\n",
       "      <td>0.00</td>\n",
       "      <td>1.00</td>\n",
       "      <td>0.71</td>\n",
       "      <td>0.00</td>\n",
       "      <td>0.00</td>\n",
       "    </tr>\n",
       "    <tr>\n",
       "      <th>2</th>\n",
       "      <td>0.50</td>\n",
       "      <td>0.71</td>\n",
       "      <td>1.00</td>\n",
       "      <td>0.41</td>\n",
       "      <td>0.00</td>\n",
       "    </tr>\n",
       "    <tr>\n",
       "      <th>3</th>\n",
       "      <td>0.41</td>\n",
       "      <td>0.00</td>\n",
       "      <td>0.41</td>\n",
       "      <td>1.00</td>\n",
       "      <td>0.41</td>\n",
       "    </tr>\n",
       "    <tr>\n",
       "      <th>4</th>\n",
       "      <td>0.00</td>\n",
       "      <td>0.00</td>\n",
       "      <td>0.00</td>\n",
       "      <td>0.41</td>\n",
       "      <td>1.00</td>\n",
       "    </tr>\n",
       "  </tbody>\n",
       "</table>\n",
       "</div>"
      ],
      "text/plain": [
       "      0     1     2     3     4\n",
       "0  1.00  0.00  0.50  0.41  0.00\n",
       "1  0.00  1.00  0.71  0.00  0.00\n",
       "2  0.50  0.71  1.00  0.41  0.00\n",
       "3  0.41  0.00  0.41  1.00  0.41\n",
       "4  0.00  0.00  0.00  0.41  1.00"
      ]
     },
     "execution_count": 772,
     "metadata": {},
     "output_type": "execute_result"
    }
   ],
   "source": [
    "# QUESTIN 4: (iv) Using the cosine similarity measure in the LSI space, calculate the document similarity matrix.\n",
    "\n",
    "cos_sim_print = pd.DataFrame(cosine_similarity(_svd_df))\n",
    "cos_sim_print"
   ]
  }
 ],
 "metadata": {
  "interpreter": {
   "hash": "fdb09e5b8da7f685a786aa0263c6cb1e5633490d28f79ad5a28be447a3292200"
  },
  "kernelspec": {
   "display_name": "Python 3 (ipykernel)",
   "language": "python",
   "name": "python3"
  },
  "language_info": {
   "codemirror_mode": {
    "name": "ipython",
    "version": 3
   },
   "file_extension": ".py",
   "mimetype": "text/x-python",
   "name": "python",
   "nbconvert_exporter": "python",
   "pygments_lexer": "ipython3",
   "version": "3.8.10"
  }
 },
 "nbformat": 4,
 "nbformat_minor": 2
}
